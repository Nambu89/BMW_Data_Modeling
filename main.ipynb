{
 "cells": [
  {
   "cell_type": "code",
   "execution_count": 18,
   "metadata": {},
   "outputs": [],
   "source": [
    "#Primero importamos las librerías que vamos a usar\n",
    "import pandas as pd \n",
    "import numpy as np\n",
    "import matplotlib.pyplot as plt\n",
    "import seaborn as sns\n",
    "from sklearn.preprocessing import LabelEncoder,MinMaxScaler, OrdinalEncoder"
   ]
  },
  {
   "cell_type": "code",
   "execution_count": 19,
   "metadata": {},
   "outputs": [],
   "source": [
    "#Después importamos los datos del archivo CSV que tenemos\n",
    "df_bmw = pd.read_csv(\"/Users/fernandopradagorge/Documents/Universidad/Master Data Science and AI/Nuclio Projects/Entregables/Entregable_1_15ENE24/bmw_pricing_v3.csv\")"
   ]
  },
  {
   "cell_type": "code",
   "execution_count": null,
   "metadata": {},
   "outputs": [],
   "source": [
    "df_bmw.head()"
   ]
  },
  {
   "cell_type": "code",
   "execution_count": null,
   "metadata": {},
   "outputs": [],
   "source": [
    "#Una vez comprobado que el DataFrame carga bien, vamos a ver la estructura que tienen los datos.\n",
    "df_bmw.info()"
   ]
  },
  {
   "cell_type": "code",
   "execution_count": null,
   "metadata": {},
   "outputs": [],
   "source": [
    "df_bmw.describe()"
   ]
  },
  {
   "cell_type": "code",
   "execution_count": 33,
   "metadata": {},
   "outputs": [
    {
     "data": {
      "text/plain": [
       "marca                          0\n",
       "modelo                         0\n",
       "km                             0\n",
       "potencia                       0\n",
       "fecha_registro                 0\n",
       "tipo_gasolina                  0\n",
       "color                          0\n",
       "tipo_coche                     0\n",
       "volante_regulable              0\n",
       "aire_acondicionado             0\n",
       "camara_trasera                 0\n",
       "asientos_traseros_plegables    0\n",
       "elevalunas_electrico           0\n",
       "bluetooth                      0\n",
       "gps                            0\n",
       "alerta_lim_velocidad           0\n",
       "precio                         0\n",
       "fecha_venta                    0\n",
       "dtype: int64"
      ]
     },
     "execution_count": 33,
     "metadata": {},
     "output_type": "execute_result"
    }
   ],
   "source": [
    "#Vamos a buscar los nulos y a quitarlos de enmedio\n",
    "df_bmw.isnull().sum()"
   ]
  },
  {
   "cell_type": "code",
   "execution_count": null,
   "metadata": {},
   "outputs": [],
   "source": [
    "#Y también eliminamos duplicados\n",
    "df_bmw[df_bmw.duplicated(keep=False)]"
   ]
  },
  {
   "cell_type": "code",
   "execution_count": 8,
   "metadata": {},
   "outputs": [],
   "source": [
    "df_bmw.drop_duplicates(inplace=True)"
   ]
  },
  {
   "cell_type": "code",
   "execution_count": null,
   "metadata": {},
   "outputs": [],
   "source": [
    "df_bmw[df_bmw[\"marca\"].isnull()]"
   ]
  },
  {
   "cell_type": "code",
   "execution_count": 32,
   "metadata": {},
   "outputs": [],
   "source": [
    "for i in df_bmw:\n",
    "    if df_bmw[i].isnull:\n",
    "        df_bmw[i].fillna(\"Otros\", inplace=True)\n",
    "    else:\n",
    "        df_bmw[i].fillna(\"0\", inplace=True)\n",
    "#Con este bucle for eliminamos los elementos nulos de las columnas que vaya encontrando el programa."
   ]
  },
  {
   "cell_type": "code",
   "execution_count": 23,
   "metadata": {},
   "outputs": [],
   "source": [
    "#Ahora tenemos que buscar las variables únicas para poder trabajar con ellas\n"
   ]
  },
  {
   "cell_type": "code",
   "execution_count": null,
   "metadata": {},
   "outputs": [],
   "source": []
  },
  {
   "cell_type": "code",
   "execution_count": null,
   "metadata": {},
   "outputs": [],
   "source": []
  }
 ],
 "metadata": {
  "kernelspec": {
   "display_name": "Python 3",
   "language": "python",
   "name": "python3"
  },
  "language_info": {
   "codemirror_mode": {
    "name": "ipython",
    "version": 3
   },
   "file_extension": ".py",
   "mimetype": "text/x-python",
   "name": "python",
   "nbconvert_exporter": "python",
   "pygments_lexer": "ipython3",
   "version": "3.12.0"
  }
 },
 "nbformat": 4,
 "nbformat_minor": 2
}
