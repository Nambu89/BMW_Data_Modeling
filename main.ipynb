{
 "cells": [
  {
   "cell_type": "markdown",
   "metadata": {},
   "source": [
    "# Limpieza de Datos I"
   ]
  },
  {
   "cell_type": "code",
   "execution_count": 1,
   "metadata": {},
   "outputs": [],
   "source": [
    "#Primero importamos las librerías que vamos a usar\n",
    "import pandas as pd \n",
    "import numpy as np \n",
    "import matplotlib.pyplot as plt\n",
    "import seaborn as sns\n",
    "import pickle\n",
    "\n",
    "from sklearn.preprocessing import LabelEncoder,MinMaxScaler,OneHotEncoder,OrdinalEncoder\n",
    "\n",
    "import folium\n",
    "import plotly.express as px"
   ]
  },
  {
   "cell_type": "code",
   "execution_count": 2,
   "metadata": {},
   "outputs": [],
   "source": [
    "#Después importamos los datos del archivo CSV que tenemos\n",
    "df_bmw = pd.read_csv(\"/Users/fernandopradagorge/Documents/Universidad/Master Data Science and AI/Nuclio Projects/Entregables/Entregable_1_15ENE24/bmw_pricing_v3.csv\")"
   ]
  },
  {
   "cell_type": "code",
   "execution_count": 3,
   "metadata": {},
   "outputs": [
    {
     "data": {
      "text/html": [
       "<div>\n",
       "<style scoped>\n",
       "    .dataframe tbody tr th:only-of-type {\n",
       "        vertical-align: middle;\n",
       "    }\n",
       "\n",
       "    .dataframe tbody tr th {\n",
       "        vertical-align: top;\n",
       "    }\n",
       "\n",
       "    .dataframe thead th {\n",
       "        text-align: right;\n",
       "    }\n",
       "</style>\n",
       "<table border=\"1\" class=\"dataframe\">\n",
       "  <thead>\n",
       "    <tr style=\"text-align: right;\">\n",
       "      <th></th>\n",
       "      <th>marca</th>\n",
       "      <th>modelo</th>\n",
       "      <th>km</th>\n",
       "      <th>potencia</th>\n",
       "      <th>fecha_registro</th>\n",
       "      <th>tipo_gasolina</th>\n",
       "      <th>color</th>\n",
       "      <th>tipo_coche</th>\n",
       "      <th>volante_regulable</th>\n",
       "      <th>aire_acondicionado</th>\n",
       "      <th>camara_trasera</th>\n",
       "      <th>asientos_traseros_plegables</th>\n",
       "      <th>elevalunas_electrico</th>\n",
       "      <th>bluetooth</th>\n",
       "      <th>gps</th>\n",
       "      <th>alerta_lim_velocidad</th>\n",
       "      <th>precio</th>\n",
       "      <th>fecha_venta</th>\n",
       "    </tr>\n",
       "  </thead>\n",
       "  <tbody>\n",
       "    <tr>\n",
       "      <th>0</th>\n",
       "      <td>NaN</td>\n",
       "      <td>118</td>\n",
       "      <td>140411.0</td>\n",
       "      <td>100.0</td>\n",
       "      <td>2012-02-01</td>\n",
       "      <td>diesel</td>\n",
       "      <td>black</td>\n",
       "      <td>NaN</td>\n",
       "      <td>True</td>\n",
       "      <td>True</td>\n",
       "      <td>False</td>\n",
       "      <td>NaN</td>\n",
       "      <td>True</td>\n",
       "      <td>NaN</td>\n",
       "      <td>True</td>\n",
       "      <td>NaN</td>\n",
       "      <td>11300.0</td>\n",
       "      <td>2018-01-01</td>\n",
       "    </tr>\n",
       "    <tr>\n",
       "      <th>1</th>\n",
       "      <td>BMW</td>\n",
       "      <td>M4</td>\n",
       "      <td>13929.0</td>\n",
       "      <td>317.0</td>\n",
       "      <td>NaN</td>\n",
       "      <td>petrol</td>\n",
       "      <td>grey</td>\n",
       "      <td>convertible</td>\n",
       "      <td>True</td>\n",
       "      <td>True</td>\n",
       "      <td>False</td>\n",
       "      <td>NaN</td>\n",
       "      <td>False</td>\n",
       "      <td>True</td>\n",
       "      <td>True</td>\n",
       "      <td>True</td>\n",
       "      <td>69700.0</td>\n",
       "      <td>2018-02-01</td>\n",
       "    </tr>\n",
       "    <tr>\n",
       "      <th>2</th>\n",
       "      <td>BMW</td>\n",
       "      <td>320</td>\n",
       "      <td>183297.0</td>\n",
       "      <td>120.0</td>\n",
       "      <td>2012-04-01</td>\n",
       "      <td>diesel</td>\n",
       "      <td>white</td>\n",
       "      <td>NaN</td>\n",
       "      <td>False</td>\n",
       "      <td>False</td>\n",
       "      <td>False</td>\n",
       "      <td>NaN</td>\n",
       "      <td>True</td>\n",
       "      <td>False</td>\n",
       "      <td>True</td>\n",
       "      <td>False</td>\n",
       "      <td>10200.0</td>\n",
       "      <td>2018-02-01</td>\n",
       "    </tr>\n",
       "    <tr>\n",
       "      <th>3</th>\n",
       "      <td>BMW</td>\n",
       "      <td>420</td>\n",
       "      <td>128035.0</td>\n",
       "      <td>135.0</td>\n",
       "      <td>NaN</td>\n",
       "      <td>diesel</td>\n",
       "      <td>red</td>\n",
       "      <td>convertible</td>\n",
       "      <td>True</td>\n",
       "      <td>True</td>\n",
       "      <td>False</td>\n",
       "      <td>NaN</td>\n",
       "      <td>True</td>\n",
       "      <td>True</td>\n",
       "      <td>True</td>\n",
       "      <td>NaN</td>\n",
       "      <td>25100.0</td>\n",
       "      <td>2018-02-01</td>\n",
       "    </tr>\n",
       "    <tr>\n",
       "      <th>4</th>\n",
       "      <td>BMW</td>\n",
       "      <td>425</td>\n",
       "      <td>97097.0</td>\n",
       "      <td>160.0</td>\n",
       "      <td>NaN</td>\n",
       "      <td>diesel</td>\n",
       "      <td>silver</td>\n",
       "      <td>NaN</td>\n",
       "      <td>True</td>\n",
       "      <td>True</td>\n",
       "      <td>False</td>\n",
       "      <td>False</td>\n",
       "      <td>False</td>\n",
       "      <td>True</td>\n",
       "      <td>True</td>\n",
       "      <td>True</td>\n",
       "      <td>33400.0</td>\n",
       "      <td>2018-04-01</td>\n",
       "    </tr>\n",
       "  </tbody>\n",
       "</table>\n",
       "</div>"
      ],
      "text/plain": [
       "  marca modelo        km  potencia fecha_registro tipo_gasolina   color  \\\n",
       "0   NaN    118  140411.0     100.0     2012-02-01        diesel   black   \n",
       "1   BMW     M4   13929.0     317.0            NaN        petrol    grey   \n",
       "2   BMW    320  183297.0     120.0     2012-04-01        diesel   white   \n",
       "3   BMW    420  128035.0     135.0            NaN        diesel     red   \n",
       "4   BMW    425   97097.0     160.0            NaN        diesel  silver   \n",
       "\n",
       "    tipo_coche volante_regulable aire_acondicionado camara_trasera  \\\n",
       "0          NaN              True               True          False   \n",
       "1  convertible              True               True          False   \n",
       "2          NaN             False              False          False   \n",
       "3  convertible              True               True          False   \n",
       "4          NaN              True               True          False   \n",
       "\n",
       "  asientos_traseros_plegables elevalunas_electrico bluetooth   gps  \\\n",
       "0                         NaN                 True       NaN  True   \n",
       "1                         NaN                False      True  True   \n",
       "2                         NaN                 True     False  True   \n",
       "3                         NaN                 True      True  True   \n",
       "4                       False                False      True  True   \n",
       "\n",
       "  alerta_lim_velocidad   precio fecha_venta  \n",
       "0                  NaN  11300.0  2018-01-01  \n",
       "1                 True  69700.0  2018-02-01  \n",
       "2                False  10200.0  2018-02-01  \n",
       "3                  NaN  25100.0  2018-02-01  \n",
       "4                 True  33400.0  2018-04-01  "
      ]
     },
     "execution_count": 3,
     "metadata": {},
     "output_type": "execute_result"
    }
   ],
   "source": [
    "df_bmw.head()"
   ]
  },
  {
   "cell_type": "code",
   "execution_count": 4,
   "metadata": {},
   "outputs": [
    {
     "name": "stdout",
     "output_type": "stream",
     "text": [
      "<class 'pandas.core.frame.DataFrame'>\n",
      "RangeIndex: 4843 entries, 0 to 4842\n",
      "Data columns (total 18 columns):\n",
      " #   Column                       Non-Null Count  Dtype  \n",
      "---  ------                       --------------  -----  \n",
      " 0   marca                        3873 non-null   object \n",
      " 1   modelo                       4840 non-null   object \n",
      " 2   km                           4841 non-null   float64\n",
      " 3   potencia                     4842 non-null   float64\n",
      " 4   fecha_registro               2420 non-null   object \n",
      " 5   tipo_gasolina                4838 non-null   object \n",
      " 6   color                        4398 non-null   object \n",
      " 7   tipo_coche                   3383 non-null   object \n",
      " 8   volante_regulable            4839 non-null   object \n",
      " 9   aire_acondicionado           4357 non-null   object \n",
      " 10  camara_trasera               4841 non-null   object \n",
      " 11  asientos_traseros_plegables  1452 non-null   object \n",
      " 12  elevalunas_electrico         4841 non-null   object \n",
      " 13  bluetooth                    4115 non-null   object \n",
      " 14  gps                          4843 non-null   bool   \n",
      " 15  alerta_lim_velocidad         4115 non-null   object \n",
      " 16  precio                       4837 non-null   float64\n",
      " 17  fecha_venta                  4842 non-null   object \n",
      "dtypes: bool(1), float64(3), object(14)\n",
      "memory usage: 648.1+ KB\n"
     ]
    }
   ],
   "source": [
    "#Una vez comprobado que el DataFrame carga bien, vamos a ver la estructura que tienen los datos.\n",
    "df_bmw.info()"
   ]
  },
  {
   "cell_type": "code",
   "execution_count": 5,
   "metadata": {},
   "outputs": [
    {
     "name": "stdout",
     "output_type": "stream",
     "text": [
      "<class 'pandas.core.frame.DataFrame'>\n",
      "RangeIndex: 4843 entries, 0 to 4842\n",
      "Data columns (total 18 columns):\n",
      " #   Column                       Non-Null Count  Dtype         \n",
      "---  ------                       --------------  -----         \n",
      " 0   marca                        3873 non-null   object        \n",
      " 1   modelo                       4840 non-null   object        \n",
      " 2   km                           4841 non-null   float64       \n",
      " 3   potencia                     4842 non-null   float64       \n",
      " 4   fecha_registro               2420 non-null   datetime64[ns]\n",
      " 5   tipo_gasolina                4838 non-null   object        \n",
      " 6   color                        4398 non-null   object        \n",
      " 7   tipo_coche                   3383 non-null   object        \n",
      " 8   volante_regulable            4839 non-null   object        \n",
      " 9   aire_acondicionado           4357 non-null   object        \n",
      " 10  camara_trasera               4841 non-null   object        \n",
      " 11  asientos_traseros_plegables  1452 non-null   object        \n",
      " 12  elevalunas_electrico         4841 non-null   object        \n",
      " 13  bluetooth                    4115 non-null   object        \n",
      " 14  gps                          4843 non-null   bool          \n",
      " 15  alerta_lim_velocidad         4115 non-null   object        \n",
      " 16  precio                       4837 non-null   float64       \n",
      " 17  fecha_venta                  4842 non-null   datetime64[ns]\n",
      "dtypes: bool(1), datetime64[ns](2), float64(3), object(12)\n",
      "memory usage: 648.1+ KB\n"
     ]
    }
   ],
   "source": [
    "#Cambiamos las columnas fecha_registro y fecha_venta a formato datetime\n",
    "for i in [\"fecha_registro\",\"fecha_venta\"]:\n",
    "    df_bmw[i]=pd.to_datetime(df_bmw[i])\n",
    "\n",
    "df_bmw.info()"
   ]
  },
  {
   "cell_type": "code",
   "execution_count": 6,
   "metadata": {},
   "outputs": [
    {
     "data": {
      "text/html": [
       "<div>\n",
       "<style scoped>\n",
       "    .dataframe tbody tr th:only-of-type {\n",
       "        vertical-align: middle;\n",
       "    }\n",
       "\n",
       "    .dataframe tbody tr th {\n",
       "        vertical-align: top;\n",
       "    }\n",
       "\n",
       "    .dataframe thead th {\n",
       "        text-align: right;\n",
       "    }\n",
       "</style>\n",
       "<table border=\"1\" class=\"dataframe\">\n",
       "  <thead>\n",
       "    <tr style=\"text-align: right;\">\n",
       "      <th></th>\n",
       "      <th>marca</th>\n",
       "      <th>modelo</th>\n",
       "      <th>km</th>\n",
       "      <th>potencia</th>\n",
       "      <th>fecha_registro</th>\n",
       "      <th>tipo_gasolina</th>\n",
       "      <th>color</th>\n",
       "      <th>tipo_coche</th>\n",
       "      <th>volante_regulable</th>\n",
       "      <th>aire_acondicionado</th>\n",
       "      <th>camara_trasera</th>\n",
       "      <th>asientos_traseros_plegables</th>\n",
       "      <th>elevalunas_electrico</th>\n",
       "      <th>bluetooth</th>\n",
       "      <th>gps</th>\n",
       "      <th>alerta_lim_velocidad</th>\n",
       "      <th>precio</th>\n",
       "      <th>fecha_venta</th>\n",
       "      <th>fecha_venta_MES</th>\n",
       "      <th>fecha_venta_AÑO</th>\n",
       "    </tr>\n",
       "  </thead>\n",
       "  <tbody>\n",
       "    <tr>\n",
       "      <th>0</th>\n",
       "      <td>NaN</td>\n",
       "      <td>118</td>\n",
       "      <td>140411.0</td>\n",
       "      <td>100.0</td>\n",
       "      <td>2012-02-01</td>\n",
       "      <td>diesel</td>\n",
       "      <td>black</td>\n",
       "      <td>NaN</td>\n",
       "      <td>True</td>\n",
       "      <td>True</td>\n",
       "      <td>False</td>\n",
       "      <td>NaN</td>\n",
       "      <td>True</td>\n",
       "      <td>NaN</td>\n",
       "      <td>True</td>\n",
       "      <td>NaN</td>\n",
       "      <td>11300.0</td>\n",
       "      <td>2018-01-01</td>\n",
       "      <td>1.0</td>\n",
       "      <td>2018.0</td>\n",
       "    </tr>\n",
       "    <tr>\n",
       "      <th>1</th>\n",
       "      <td>BMW</td>\n",
       "      <td>M4</td>\n",
       "      <td>13929.0</td>\n",
       "      <td>317.0</td>\n",
       "      <td>NaT</td>\n",
       "      <td>petrol</td>\n",
       "      <td>grey</td>\n",
       "      <td>convertible</td>\n",
       "      <td>True</td>\n",
       "      <td>True</td>\n",
       "      <td>False</td>\n",
       "      <td>NaN</td>\n",
       "      <td>False</td>\n",
       "      <td>True</td>\n",
       "      <td>True</td>\n",
       "      <td>True</td>\n",
       "      <td>69700.0</td>\n",
       "      <td>2018-02-01</td>\n",
       "      <td>2.0</td>\n",
       "      <td>2018.0</td>\n",
       "    </tr>\n",
       "    <tr>\n",
       "      <th>2</th>\n",
       "      <td>BMW</td>\n",
       "      <td>320</td>\n",
       "      <td>183297.0</td>\n",
       "      <td>120.0</td>\n",
       "      <td>2012-04-01</td>\n",
       "      <td>diesel</td>\n",
       "      <td>white</td>\n",
       "      <td>NaN</td>\n",
       "      <td>False</td>\n",
       "      <td>False</td>\n",
       "      <td>False</td>\n",
       "      <td>NaN</td>\n",
       "      <td>True</td>\n",
       "      <td>False</td>\n",
       "      <td>True</td>\n",
       "      <td>False</td>\n",
       "      <td>10200.0</td>\n",
       "      <td>2018-02-01</td>\n",
       "      <td>2.0</td>\n",
       "      <td>2018.0</td>\n",
       "    </tr>\n",
       "    <tr>\n",
       "      <th>3</th>\n",
       "      <td>BMW</td>\n",
       "      <td>420</td>\n",
       "      <td>128035.0</td>\n",
       "      <td>135.0</td>\n",
       "      <td>NaT</td>\n",
       "      <td>diesel</td>\n",
       "      <td>red</td>\n",
       "      <td>convertible</td>\n",
       "      <td>True</td>\n",
       "      <td>True</td>\n",
       "      <td>False</td>\n",
       "      <td>NaN</td>\n",
       "      <td>True</td>\n",
       "      <td>True</td>\n",
       "      <td>True</td>\n",
       "      <td>NaN</td>\n",
       "      <td>25100.0</td>\n",
       "      <td>2018-02-01</td>\n",
       "      <td>2.0</td>\n",
       "      <td>2018.0</td>\n",
       "    </tr>\n",
       "    <tr>\n",
       "      <th>4</th>\n",
       "      <td>BMW</td>\n",
       "      <td>425</td>\n",
       "      <td>97097.0</td>\n",
       "      <td>160.0</td>\n",
       "      <td>NaT</td>\n",
       "      <td>diesel</td>\n",
       "      <td>silver</td>\n",
       "      <td>NaN</td>\n",
       "      <td>True</td>\n",
       "      <td>True</td>\n",
       "      <td>False</td>\n",
       "      <td>False</td>\n",
       "      <td>False</td>\n",
       "      <td>True</td>\n",
       "      <td>True</td>\n",
       "      <td>True</td>\n",
       "      <td>33400.0</td>\n",
       "      <td>2018-04-01</td>\n",
       "      <td>4.0</td>\n",
       "      <td>2018.0</td>\n",
       "    </tr>\n",
       "  </tbody>\n",
       "</table>\n",
       "</div>"
      ],
      "text/plain": [
       "  marca modelo        km  potencia fecha_registro tipo_gasolina   color  \\\n",
       "0   NaN    118  140411.0     100.0     2012-02-01        diesel   black   \n",
       "1   BMW     M4   13929.0     317.0            NaT        petrol    grey   \n",
       "2   BMW    320  183297.0     120.0     2012-04-01        diesel   white   \n",
       "3   BMW    420  128035.0     135.0            NaT        diesel     red   \n",
       "4   BMW    425   97097.0     160.0            NaT        diesel  silver   \n",
       "\n",
       "    tipo_coche volante_regulable aire_acondicionado camara_trasera  \\\n",
       "0          NaN              True               True          False   \n",
       "1  convertible              True               True          False   \n",
       "2          NaN             False              False          False   \n",
       "3  convertible              True               True          False   \n",
       "4          NaN              True               True          False   \n",
       "\n",
       "  asientos_traseros_plegables elevalunas_electrico bluetooth   gps  \\\n",
       "0                         NaN                 True       NaN  True   \n",
       "1                         NaN                False      True  True   \n",
       "2                         NaN                 True     False  True   \n",
       "3                         NaN                 True      True  True   \n",
       "4                       False                False      True  True   \n",
       "\n",
       "  alerta_lim_velocidad   precio fecha_venta  fecha_venta_MES  fecha_venta_AÑO  \n",
       "0                  NaN  11300.0  2018-01-01              1.0           2018.0  \n",
       "1                 True  69700.0  2018-02-01              2.0           2018.0  \n",
       "2                False  10200.0  2018-02-01              2.0           2018.0  \n",
       "3                  NaN  25100.0  2018-02-01              2.0           2018.0  \n",
       "4                 True  33400.0  2018-04-01              4.0           2018.0  "
      ]
     },
     "execution_count": 6,
     "metadata": {},
     "output_type": "execute_result"
    }
   ],
   "source": [
    "#Para una mejor lectura y comprensión de los datos, dividiremos la columna fecha_venta en 3 nuevas según el día, el mes y  el año de venta.\n",
    "for col in [\"fecha_venta\"]:\n",
    "    df_bmw[col + \"_MES\"] = df_bmw[col].dt.month\n",
    "    df_bmw[col + \"_AÑO\"] = df_bmw[col].dt.year\n",
    "\n",
    "df_bmw.head()"
   ]
  },
  {
   "cell_type": "code",
   "execution_count": 7,
   "metadata": {},
   "outputs": [],
   "source": [
    "#Ahora procederemos a quitar las columnas de marca, modelo (por ser irrelevantes para el estudio) y fecha venta por ser repetida:\n",
    "df_bmw.drop([\"modelo\", \"marca\", \"fecha_venta\"], axis=1, inplace=True)"
   ]
  },
  {
   "cell_type": "code",
   "execution_count": 8,
   "metadata": {},
   "outputs": [
    {
     "data": {
      "text/plain": [
       "km                                0\n",
       "potencia                          0\n",
       "fecha_registro                 2411\n",
       "tipo_gasolina                     0\n",
       "color                           442\n",
       "tipo_coche                     1451\n",
       "volante_regulable                 0\n",
       "aire_acondicionado              482\n",
       "camara_trasera                    0\n",
       "asientos_traseros_plegables    3376\n",
       "elevalunas_electrico              0\n",
       "bluetooth                       726\n",
       "gps                               0\n",
       "alerta_lim_velocidad            726\n",
       "precio                            0\n",
       "fecha_venta_MES                   0\n",
       "fecha_venta_AÑO                   0\n",
       "dtype: int64"
      ]
     },
     "execution_count": 8,
     "metadata": {},
     "output_type": "execute_result"
    }
   ],
   "source": [
    "#Vamos a buscar los nulos y a quitarlos de enmedio\n",
    "sin_nulos = [\"km\", \"potencia\", \"tipo_gasolina\", \"volante_regulable\", \"camara_trasera\", \"elevalunas_electrico\", \"precio\", \"fecha_venta_MES\", \"fecha_venta_AÑO\"]\n",
    "df_bmw2 = df_bmw.dropna(subset=sin_nulos)\n",
    "\n",
    "df_bmw2.isnull().sum()"
   ]
  },
  {
   "cell_type": "code",
   "execution_count": 9,
   "metadata": {},
   "outputs": [],
   "source": [
    "#Y ahora guardamos una copia en df_bmw3\n",
    "df_bmw3= df_bmw2.copy()"
   ]
  },
  {
   "cell_type": "code",
   "execution_count": 10,
   "metadata": {},
   "outputs": [],
   "source": [
    "#Guardamos el DataFrame en  un pickle para seguir trabajando desde aquí mas adelante y no tener que cargar todo de nuevo\n",
    "pd.to_pickle(df_bmw3, \"/Users/fernandopradagorge/Documents/Universidad/Master Data Science and AI/Nuclio Projects/Entregables/Entregable_1_15ENE24/primera_entrega_15ENE24_PK\")"
   ]
  },
  {
   "cell_type": "code",
   "execution_count": 65,
   "metadata": {},
   "outputs": [
    {
     "data": {
      "text/plain": [
       "<Axes: >"
      ]
     },
     "execution_count": 65,
     "metadata": {},
     "output_type": "execute_result"
    },
    {
     "data": {
      "image/png": "[encoded data removed]",
      "text/plain": [
       "<Figure size 640x480 with 1 Axes>"
      ]
     },
     "metadata": {},
     "output_type": "display_data"
    }
   ],
   "source": [
    "#Me salen algunos outliers en la columna \"km\" en un primer vistazo por lo que procedo a su eliminación para que los datos estén mas normalizados\n",
    "\n",
    "df_bmw3.drop(df_bmw3[((df_bmw3[\"km\"]<0) | (df_bmw3[\"km\"]>400000))].index, inplace=True)\n",
    "\n",
    "df_bmw3[\"km\"].hist()"
   ]
  },
  {
   "cell_type": "code",
   "execution_count": 66,
   "metadata": {},
   "outputs": [
    {
     "data": {
      "text/plain": [
       "<Axes: >"
      ]
     },
     "execution_count": 66,
     "metadata": {},
     "output_type": "execute_result"
    },
    {
     "data": {
      "image/png": "[encoded data removed]",
      "text/plain": [
       "<Figure size 640x480 with 1 Axes>"
      ]
     },
     "metadata": {},
     "output_type": "display_data"
    }
   ],
   "source": [
    "#Ahora pasamos a quitar los outliers de la columna de \"potencia\" ya que no nos dicen mucho y así normalizamos los datos\n",
    "df_bmw3.drop(df_bmw3[((df_bmw3[\"potencia\"]<=50) | (df_bmw3[\"potencia\"]>=400))].index, inplace=True)\n",
    "df_bmw3[\"potencia\"].hist()"
   ]
  },
  {
   "cell_type": "code",
   "execution_count": 67,
   "metadata": {},
   "outputs": [
    {
     "data": {
      "text/plain": [
       "<Axes: >"
      ]
     },
     "execution_count": 67,
     "metadata": {},
     "output_type": "execute_result"
    },
    {
     "data": {
      "image/png": "[encoded data removed]",
      "text/plain": [
       "<Figure size 640x480 with 1 Axes>"
      ]
     },
     "metadata": {},
     "output_type": "display_data"
    }
   ],
   "source": [
    "#Ahora hacemos lo mismo con los outliers de la columna \"precio\"\n",
    "df_bmw3.drop(df_bmw3[((df_bmw3[\"precio\"]<=50) | (df_bmw3[\"precio\"]>=75000))].index, inplace=True)\n",
    "df_bmw3[\"precio\"].hist()"
   ]
  },
  {
   "cell_type": "code",
   "execution_count": null,
   "metadata": {},
   "outputs": [],
   "source": [
    "#Haciendo un .info() del DataFrame comprobamos que casi la mita de los datos de la columna \"fecha_registro\" son nulos por lo que procedemos a eliminarla\n",
    "df_bmw3.drop(\"fecha_registro\", axis=1, inplace=True)\n",
    "df_bmw3.info()"
   ]
  },
  {
   "cell_type": "code",
   "execution_count": 35,
   "metadata": {},
   "outputs": [
    {
     "data": {
      "text/plain": [
       "km                                0\n",
       "potencia                          0\n",
       "tipo_gasolina                     0\n",
       "color                             0\n",
       "tipo_coche                        0\n",
       "volante_regulable                 0\n",
       "aire_acondicionado              481\n",
       "camara_trasera                    0\n",
       "asientos_traseros_plegables    3370\n",
       "elevalunas_electrico              0\n",
       "bluetooth                       725\n",
       "gps                               0\n",
       "alerta_lim_velocidad            724\n",
       "precio                            0\n",
       "fecha_venta_MES                   0\n",
       "fecha_venta_AÑO                   0\n",
       "dtype: int64"
      ]
     },
     "execution_count": 35,
     "metadata": {},
     "output_type": "execute_result"
    }
   ],
   "source": [
    "#Ahora los valores nulos de las columnas \"color\" y \"tipo_coche\" los cambiamos a \"desconocido\"\n",
    "df_bmw3[\"color\"].fillna(\"desconocido\", inplace=True)\n",
    "df_bmw3[\"tipo_coche\"].fillna(\"desconocido\", inplace=True)\n",
    "\n",
    "df_bmw3.isnull().sum()"
   ]
  },
  {
   "cell_type": "code",
   "execution_count": 36,
   "metadata": {},
   "outputs": [],
   "source": [
    "#Hago una copia de la tabla a modo de punto de control y sigo avanzando\n",
    "df_bmw4 = df_bmw3.copy()"
   ]
  },
  {
   "cell_type": "code",
   "execution_count": 37,
   "metadata": {},
   "outputs": [],
   "source": [
    "#Vuelvo a guardar el DataFrame en un archivo Pickle para seguir mas adelante\n",
    "pd.to_pickle(df_bmw4,\"/Users/fernandopradagorge/Documents/Universidad/Master Data Science and AI/Nuclio Projects/Entregables/Entregable_1_15ENE24/primera_entrega_15ENE24_PK\")"
   ]
  },
  {
   "cell_type": "markdown",
   "metadata": {},
   "source": [
    "# Limpieza de Datos II"
   ]
  },
  {
   "cell_type": "code",
   "execution_count": 39,
   "metadata": {},
   "outputs": [],
   "source": [
    "#Recupero el archivo .pickle para seguir trabajando desde ahí en una nueva variable\n",
    "df_bmw5 = pd.read_pickle(\"primera_entrega_15ENE24_PK\")"
   ]
  },
  {
   "cell_type": "code",
   "execution_count": 45,
   "metadata": {},
   "outputs": [
    {
     "data": {
      "text/plain": [
       "km                                0\n",
       "potencia                          0\n",
       "tipo_gasolina                     0\n",
       "color                             0\n",
       "tipo_coche                        0\n",
       "volante_regulable                 0\n",
       "aire_acondicionado              481\n",
       "camara_trasera                    0\n",
       "asientos_traseros_plegables    3370\n",
       "elevalunas_electrico              0\n",
       "bluetooth                       725\n",
       "gps                               0\n",
       "alerta_lim_velocidad            724\n",
       "precio                            0\n",
       "fecha_venta_MES                   0\n",
       "fecha_venta_AÑO                   0\n",
       "dtype: int64"
      ]
     },
     "execution_count": 45,
     "metadata": {},
     "output_type": "execute_result"
    }
   ],
   "source": [
    "df_bmw5.isnull().sum()"
   ]
  },
  {
   "cell_type": "code",
   "execution_count": 47,
   "metadata": {},
   "outputs": [],
   "source": [
    "#Viendo la .info() del DataFrame, procedo a eliminar la columna \"asientos_traseros_plegables\" por tener mas de 3000 registros nulos.\n",
    "df_bmw5.drop(\"asientos_traseros_plegables\", axis=1, inplace=True)"
   ]
  },
  {
   "cell_type": "code",
   "execution_count": 69,
   "metadata": {},
   "outputs": [
    {
     "data": {
      "text/plain": [
       "km                      0\n",
       "potencia                0\n",
       "tipo_gasolina           0\n",
       "color                   0\n",
       "tipo_coche              0\n",
       "volante_regulable       0\n",
       "aire_acondicionado      0\n",
       "camara_trasera          0\n",
       "elevalunas_electrico    0\n",
       "bluetooth               0\n",
       "gps                     0\n",
       "alerta_lim_velocidad    0\n",
       "precio                  0\n",
       "fecha_venta_MES         0\n",
       "fecha_venta_AÑO         0\n",
       "dtype: int64"
      ]
     },
     "execution_count": 69,
     "metadata": {},
     "output_type": "execute_result"
    }
   ],
   "source": [
    "df_bmw5.isnull().sum()"
   ]
  },
  {
   "cell_type": "code",
   "execution_count": 68,
   "metadata": {},
   "outputs": [],
   "source": [
    "#Procedo a sustituir los valores nulos de las columnas \"aire_acondicionado\", \"bluetooth\" y \"alerta_limite_velocidad\" por sus medianas ya que no me interesan eliminarlos completamente por los porcentajes de datos que representan.\n",
    "df_bmw5[\"aire_acondicionado\"].fillna(df_bmw5[\"aire_acondicionado\"].mean(), inplace=True)\n",
    "df_bmw5[\"bluetooth\"].fillna(df_bmw5[\"bluetooth\"].mean(), inplace=True)\n",
    "df_bmw5[\"alerta_lim_velocidad\"].fillna(df_bmw5[\"alerta_lim_velocidad\"].mean(), inplace=True)"
   ]
  },
  {
   "cell_type": "code",
   "execution_count": 70,
   "metadata": {},
   "outputs": [
    {
     "data": {
      "text/html": [
       "<div>\n",
       "<style scoped>\n",
       "    .dataframe tbody tr th:only-of-type {\n",
       "        vertical-align: middle;\n",
       "    }\n",
       "\n",
       "    .dataframe tbody tr th {\n",
       "        vertical-align: top;\n",
       "    }\n",
       "\n",
       "    .dataframe thead th {\n",
       "        text-align: right;\n",
       "    }\n",
       "</style>\n",
       "<table border=\"1\" class=\"dataframe\">\n",
       "  <thead>\n",
       "    <tr style=\"text-align: right;\">\n",
       "      <th></th>\n",
       "      <th>km</th>\n",
       "      <th>potencia</th>\n",
       "      <th>tipo_gasolina</th>\n",
       "      <th>color</th>\n",
       "      <th>tipo_coche</th>\n",
       "      <th>volante_regulable</th>\n",
       "      <th>aire_acondicionado</th>\n",
       "      <th>camara_trasera</th>\n",
       "      <th>elevalunas_electrico</th>\n",
       "      <th>bluetooth</th>\n",
       "      <th>gps</th>\n",
       "      <th>alerta_lim_velocidad</th>\n",
       "      <th>precio</th>\n",
       "      <th>fecha_venta_MES</th>\n",
       "      <th>fecha_venta_AÑO</th>\n",
       "    </tr>\n",
       "  </thead>\n",
       "  <tbody>\n",
       "    <tr>\n",
       "      <th>0</th>\n",
       "      <td>140411.0</td>\n",
       "      <td>100.0</td>\n",
       "      <td>diesel</td>\n",
       "      <td>black</td>\n",
       "      <td>desconocido</td>\n",
       "      <td>1</td>\n",
       "      <td>1</td>\n",
       "      <td>0</td>\n",
       "      <td>1</td>\n",
       "      <td>0</td>\n",
       "      <td>1</td>\n",
       "      <td>0</td>\n",
       "      <td>11300.0</td>\n",
       "      <td>1.0</td>\n",
       "      <td>2018.0</td>\n",
       "    </tr>\n",
       "    <tr>\n",
       "      <th>1</th>\n",
       "      <td>13929.0</td>\n",
       "      <td>317.0</td>\n",
       "      <td>petrol</td>\n",
       "      <td>grey</td>\n",
       "      <td>convertible</td>\n",
       "      <td>1</td>\n",
       "      <td>1</td>\n",
       "      <td>0</td>\n",
       "      <td>0</td>\n",
       "      <td>1</td>\n",
       "      <td>1</td>\n",
       "      <td>1</td>\n",
       "      <td>69700.0</td>\n",
       "      <td>2.0</td>\n",
       "      <td>2018.0</td>\n",
       "    </tr>\n",
       "    <tr>\n",
       "      <th>2</th>\n",
       "      <td>183297.0</td>\n",
       "      <td>120.0</td>\n",
       "      <td>diesel</td>\n",
       "      <td>white</td>\n",
       "      <td>desconocido</td>\n",
       "      <td>0</td>\n",
       "      <td>0</td>\n",
       "      <td>0</td>\n",
       "      <td>1</td>\n",
       "      <td>0</td>\n",
       "      <td>1</td>\n",
       "      <td>0</td>\n",
       "      <td>10200.0</td>\n",
       "      <td>2.0</td>\n",
       "      <td>2018.0</td>\n",
       "    </tr>\n",
       "    <tr>\n",
       "      <th>3</th>\n",
       "      <td>128035.0</td>\n",
       "      <td>135.0</td>\n",
       "      <td>diesel</td>\n",
       "      <td>red</td>\n",
       "      <td>convertible</td>\n",
       "      <td>1</td>\n",
       "      <td>1</td>\n",
       "      <td>0</td>\n",
       "      <td>1</td>\n",
       "      <td>1</td>\n",
       "      <td>1</td>\n",
       "      <td>0</td>\n",
       "      <td>25100.0</td>\n",
       "      <td>2.0</td>\n",
       "      <td>2018.0</td>\n",
       "    </tr>\n",
       "    <tr>\n",
       "      <th>4</th>\n",
       "      <td>97097.0</td>\n",
       "      <td>160.0</td>\n",
       "      <td>diesel</td>\n",
       "      <td>silver</td>\n",
       "      <td>desconocido</td>\n",
       "      <td>1</td>\n",
       "      <td>1</td>\n",
       "      <td>0</td>\n",
       "      <td>0</td>\n",
       "      <td>1</td>\n",
       "      <td>1</td>\n",
       "      <td>1</td>\n",
       "      <td>33400.0</td>\n",
       "      <td>4.0</td>\n",
       "      <td>2018.0</td>\n",
       "    </tr>\n",
       "  </tbody>\n",
       "</table>\n",
       "</div>"
      ],
      "text/plain": [
       "         km  potencia tipo_gasolina   color   tipo_coche  volante_regulable  \\\n",
       "0  140411.0     100.0        diesel   black  desconocido                  1   \n",
       "1   13929.0     317.0        petrol    grey  convertible                  1   \n",
       "2  183297.0     120.0        diesel   white  desconocido                  0   \n",
       "3  128035.0     135.0        diesel     red  convertible                  1   \n",
       "4   97097.0     160.0        diesel  silver  desconocido                  1   \n",
       "\n",
       "   aire_acondicionado  camara_trasera  elevalunas_electrico  bluetooth  gps  \\\n",
       "0                   1               0                     1          0    1   \n",
       "1                   1               0                     0          1    1   \n",
       "2                   0               0                     1          0    1   \n",
       "3                   1               0                     1          1    1   \n",
       "4                   1               0                     0          1    1   \n",
       "\n",
       "   alerta_lim_velocidad   precio  fecha_venta_MES  fecha_venta_AÑO  \n",
       "0                     0  11300.0              1.0           2018.0  \n",
       "1                     1  69700.0              2.0           2018.0  \n",
       "2                     0  10200.0              2.0           2018.0  \n",
       "3                     0  25100.0              2.0           2018.0  \n",
       "4                     1  33400.0              4.0           2018.0  "
      ]
     },
     "execution_count": 70,
     "metadata": {},
     "output_type": "execute_result"
    }
   ],
   "source": [
    "#Ahora transformo las columnas booleanas en valores numéricos 0 y 1\n",
    "boolean = [\"volante_regulable\", \"aire_acondicionado\", \"camara_trasera\", \"elevalunas_electrico\", \"bluetooth\", \"gps\", \"alerta_lim_velocidad\"]\n",
    "\n",
    "for col in boolean:\n",
    "    df_bmw5[col] = df_bmw5[col].astype(\"int64\")\n",
    "\n",
    "df_bmw5.head()"
   ]
  },
  {
   "cell_type": "code",
   "execution_count": 79,
   "metadata": {},
   "outputs": [
    {
     "data": {
      "text/plain": [
       "tipo_gasolina\n",
       "diesel    4622\n",
       "petrol     189\n",
       "Name: count, dtype: int64"
      ]
     },
     "execution_count": 79,
     "metadata": {},
     "output_type": "execute_result"
    }
   ],
   "source": [
    "df_bmw5[\"tipo_gasolina\"].value_counts()"
   ]
  },
  {
   "cell_type": "code",
   "execution_count": null,
   "metadata": {},
   "outputs": [],
   "source": [
    "#Se han eliminado los valores pequeños dentro de la columna \"tipo_gasolina\" ya que no aportan nada al conjunto de datos\n",
    "valores_pequeños = ['Diesel', 'hybrid_petrol', 'electro']\n",
    "\n",
    "df_bmw5['tipo_gasolina'].replace(valores_pequeños, inplace=True)\n",
    "df_bmw5.dropna(subset=['tipo_gasolina'], inplace=True)"
   ]
  },
  {
   "cell_type": "code",
   "execution_count": 83,
   "metadata": {},
   "outputs": [
    {
     "data": {
      "text/plain": [
       "tipo_coche\n",
       "desconocido    1649\n",
       "estate         1097\n",
       "sedan           826\n",
       "suv             752\n",
       "hatchback       487\n",
       "Name: count, dtype: int64"
      ]
     },
     "execution_count": 83,
     "metadata": {},
     "output_type": "execute_result"
    }
   ],
   "source": [
    "df_bmw5[\"tipo_coche\"].value_counts()"
   ]
  },
  {
   "cell_type": "code",
   "execution_count": 82,
   "metadata": {},
   "outputs": [
    {
     "name": "stderr",
     "output_type": "stream",
     "text": [
      "/var/folders/fg/y114z21j2zn039z19n0n8cdh0000gn/T/ipykernel_31616/1569373261.py:4: FutureWarning: Series.replace without 'value' and with non-dict-like 'to_replace' is deprecated and will raise in a future version. Explicitly specify the new values instead.\n",
      "  df_bmw5[\"tipo_coche\"].replace(valores_pequeños_coches, inplace=True)\n"
     ]
    }
   ],
   "source": [
    "#Al igual que en la columna anterior, voy a eliminar los valores pequeños\n",
    "valores_pequeños_coches = [\"van\", \"convertible\", \"coupe\", \"subcompact\"]\n",
    "\n",
    "df_bmw5[\"tipo_coche\"].replace(valores_pequeños_coches, inplace=True)\n",
    "df_bmw5.dropna(subset=[\"tipo_coche\"], inplace=True)"
   ]
  },
  {
   "cell_type": "code",
   "execution_count": 85,
   "metadata": {},
   "outputs": [
    {
     "data": {
      "text/plain": [
       "fecha_venta_AÑO\n",
       "2018.0    4807\n",
       "2007.0       1\n",
       "2010.0       1\n",
       "2009.0       1\n",
       "2008.0       1\n",
       "Name: count, dtype: int64"
      ]
     },
     "execution_count": 85,
     "metadata": {},
     "output_type": "execute_result"
    }
   ],
   "source": [
    "df_bmw5[\"fecha_venta_AÑO\"].value_counts()"
   ]
  },
  {
   "cell_type": "code",
   "execution_count": 86,
   "metadata": {},
   "outputs": [
    {
     "data": {
      "text/plain": [
       "fecha_venta_AÑO\n",
       "2018.0    4807\n",
       "Name: count, dtype: int64"
      ]
     },
     "execution_count": 86,
     "metadata": {},
     "output_type": "execute_result"
    }
   ],
   "source": [
    "#Vemos en la columnla \"fecha_venta_AÑO\" hay una serie de outliers que voy a eliminar para que no interfeieran en mi DataFrame\n",
    "df_bmw5 = df_bmw5[df_bmw5[\"fecha_venta_AÑO\"] >= 2018]\n",
    "\n",
    "df_bmw5[\"fecha_venta_AÑO\"].value_counts()"
   ]
  },
  {
   "cell_type": "code",
   "execution_count": 87,
   "metadata": {},
   "outputs": [
    {
     "data": {
      "text/html": [
       "<div>\n",
       "<style scoped>\n",
       "    .dataframe tbody tr th:only-of-type {\n",
       "        vertical-align: middle;\n",
       "    }\n",
       "\n",
       "    .dataframe tbody tr th {\n",
       "        vertical-align: top;\n",
       "    }\n",
       "\n",
       "    .dataframe thead th {\n",
       "        text-align: right;\n",
       "    }\n",
       "</style>\n",
       "<table border=\"1\" class=\"dataframe\">\n",
       "  <thead>\n",
       "    <tr style=\"text-align: right;\">\n",
       "      <th></th>\n",
       "      <th>km</th>\n",
       "      <th>potencia</th>\n",
       "      <th>tipo_gasolina</th>\n",
       "      <th>color</th>\n",
       "      <th>tipo_coche</th>\n",
       "      <th>volante_regulable</th>\n",
       "      <th>aire_acondicionado</th>\n",
       "      <th>camara_trasera</th>\n",
       "      <th>elevalunas_electrico</th>\n",
       "      <th>bluetooth</th>\n",
       "      <th>gps</th>\n",
       "      <th>alerta_lim_velocidad</th>\n",
       "      <th>precio</th>\n",
       "      <th>fecha_venta_MES</th>\n",
       "      <th>fecha_venta_AÑO</th>\n",
       "    </tr>\n",
       "  </thead>\n",
       "  <tbody>\n",
       "    <tr>\n",
       "      <th>0</th>\n",
       "      <td>140411.0</td>\n",
       "      <td>100.0</td>\n",
       "      <td>diesel</td>\n",
       "      <td>black</td>\n",
       "      <td>desconocido</td>\n",
       "      <td>1</td>\n",
       "      <td>1</td>\n",
       "      <td>0</td>\n",
       "      <td>1</td>\n",
       "      <td>0</td>\n",
       "      <td>1</td>\n",
       "      <td>0</td>\n",
       "      <td>11300.0</td>\n",
       "      <td>1.0</td>\n",
       "      <td>2018.0</td>\n",
       "    </tr>\n",
       "    <tr>\n",
       "      <th>1</th>\n",
       "      <td>13929.0</td>\n",
       "      <td>317.0</td>\n",
       "      <td>petrol</td>\n",
       "      <td>grey</td>\n",
       "      <td>desconocido</td>\n",
       "      <td>1</td>\n",
       "      <td>1</td>\n",
       "      <td>0</td>\n",
       "      <td>0</td>\n",
       "      <td>1</td>\n",
       "      <td>1</td>\n",
       "      <td>1</td>\n",
       "      <td>69700.0</td>\n",
       "      <td>2.0</td>\n",
       "      <td>2018.0</td>\n",
       "    </tr>\n",
       "    <tr>\n",
       "      <th>2</th>\n",
       "      <td>183297.0</td>\n",
       "      <td>120.0</td>\n",
       "      <td>diesel</td>\n",
       "      <td>white</td>\n",
       "      <td>desconocido</td>\n",
       "      <td>0</td>\n",
       "      <td>0</td>\n",
       "      <td>0</td>\n",
       "      <td>1</td>\n",
       "      <td>0</td>\n",
       "      <td>1</td>\n",
       "      <td>0</td>\n",
       "      <td>10200.0</td>\n",
       "      <td>2.0</td>\n",
       "      <td>2018.0</td>\n",
       "    </tr>\n",
       "    <tr>\n",
       "      <th>3</th>\n",
       "      <td>128035.0</td>\n",
       "      <td>135.0</td>\n",
       "      <td>diesel</td>\n",
       "      <td>red</td>\n",
       "      <td>desconocido</td>\n",
       "      <td>1</td>\n",
       "      <td>1</td>\n",
       "      <td>0</td>\n",
       "      <td>1</td>\n",
       "      <td>1</td>\n",
       "      <td>1</td>\n",
       "      <td>0</td>\n",
       "      <td>25100.0</td>\n",
       "      <td>2.0</td>\n",
       "      <td>2018.0</td>\n",
       "    </tr>\n",
       "    <tr>\n",
       "      <th>4</th>\n",
       "      <td>97097.0</td>\n",
       "      <td>160.0</td>\n",
       "      <td>diesel</td>\n",
       "      <td>silver</td>\n",
       "      <td>desconocido</td>\n",
       "      <td>1</td>\n",
       "      <td>1</td>\n",
       "      <td>0</td>\n",
       "      <td>0</td>\n",
       "      <td>1</td>\n",
       "      <td>1</td>\n",
       "      <td>1</td>\n",
       "      <td>33400.0</td>\n",
       "      <td>4.0</td>\n",
       "      <td>2018.0</td>\n",
       "    </tr>\n",
       "  </tbody>\n",
       "</table>\n",
       "</div>"
      ],
      "text/plain": [
       "         km  potencia tipo_gasolina   color   tipo_coche  volante_regulable  \\\n",
       "0  140411.0     100.0        diesel   black  desconocido                  1   \n",
       "1   13929.0     317.0        petrol    grey  desconocido                  1   \n",
       "2  183297.0     120.0        diesel   white  desconocido                  0   \n",
       "3  128035.0     135.0        diesel     red  desconocido                  1   \n",
       "4   97097.0     160.0        diesel  silver  desconocido                  1   \n",
       "\n",
       "   aire_acondicionado  camara_trasera  elevalunas_electrico  bluetooth  gps  \\\n",
       "0                   1               0                     1          0    1   \n",
       "1                   1               0                     0          1    1   \n",
       "2                   0               0                     1          0    1   \n",
       "3                   1               0                     1          1    1   \n",
       "4                   1               0                     0          1    1   \n",
       "\n",
       "   alerta_lim_velocidad   precio  fecha_venta_MES  fecha_venta_AÑO  \n",
       "0                     0  11300.0              1.0           2018.0  \n",
       "1                     1  69700.0              2.0           2018.0  \n",
       "2                     0  10200.0              2.0           2018.0  \n",
       "3                     0  25100.0              2.0           2018.0  \n",
       "4                     1  33400.0              4.0           2018.0  "
      ]
     },
     "execution_count": 87,
     "metadata": {},
     "output_type": "execute_result"
    }
   ],
   "source": [
    "df_bmw5.head()"
   ]
  },
  {
   "cell_type": "code",
   "execution_count": 88,
   "metadata": {},
   "outputs": [],
   "source": [
    "pd.to_pickle(df_bmw5, \"/Users/fernandopradagorge/Documents/Universidad/Master Data Science and AI/Nuclio Projects/Entregables/Entregable_1_15ENE24/primera_entrega_15ENE24_PK\")"
   ]
  },
  {
   "cell_type": "markdown",
   "metadata": {},
   "source": [
    "# Análisis Univariable y Correlación"
   ]
  },
  {
   "cell_type": "code",
   "execution_count": null,
   "metadata": {},
   "outputs": [],
   "source": []
  }
 ],
 "metadata": {
  "kernelspec": {
   "display_name": "Python 3",
   "language": "python",
   "name": "python3"
  },
  "language_info": {
   "codemirror_mode": {
    "name": "ipython",
    "version": 3
   },
   "file_extension": ".py",
   "mimetype": "text/x-python",
   "name": "python",
   "nbconvert_exporter": "python",
   "pygments_lexer": "ipython3",
   "version": "3.12.0"
  }
 },
 "nbformat": 4,
 "nbformat_minor": 2
}
